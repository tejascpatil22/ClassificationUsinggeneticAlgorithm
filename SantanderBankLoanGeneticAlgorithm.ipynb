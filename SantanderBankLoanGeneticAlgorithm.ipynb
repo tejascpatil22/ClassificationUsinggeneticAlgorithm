{
  "nbformat": 4,
  "nbformat_minor": 0,
  "metadata": {
    "colab": {
      "provenance": []
    },
    "kernelspec": {
      "name": "python3",
      "display_name": "Python 3"
    },
    "language_info": {
      "name": "python"
    }
  },
  "cells": [
    {
      "cell_type": "markdown",
      "source": [
        "### Importing libraries and data"
      ],
      "metadata": {
        "id": "Ft8nWH58ZQ1z"
      }
    },
    {
      "cell_type": "code",
      "source": [
        "!pip install sklearn-genetic-opt"
      ],
      "metadata": {
        "colab": {
          "base_uri": "https://localhost:8080/"
        },
        "id": "RLovIDeElhkQ",
        "outputId": "60389d4f-d9d1-426f-b48e-4637de60b033"
      },
      "execution_count": null,
      "outputs": [
        {
          "output_type": "stream",
          "name": "stdout",
          "text": [
            "Looking in indexes: https://pypi.org/simple, https://us-python.pkg.dev/colab-wheels/public/simple/\n",
            "Collecting sklearn-genetic-opt\n",
            "  Downloading sklearn_genetic_opt-0.9.0-py3-none-any.whl (31 kB)\n",
            "Requirement already satisfied: numpy>=1.14.5 in /usr/local/lib/python3.7/dist-packages (from sklearn-genetic-opt) (1.21.6)\n",
            "Requirement already satisfied: deap>=1.3.1 in /usr/local/lib/python3.7/dist-packages (from sklearn-genetic-opt) (1.3.3)\n",
            "Requirement already satisfied: tqdm>=4.61.1 in /usr/local/lib/python3.7/dist-packages (from sklearn-genetic-opt) (4.64.1)\n",
            "Requirement already satisfied: scikit-learn>=0.21.3 in /usr/local/lib/python3.7/dist-packages (from sklearn-genetic-opt) (1.0.2)\n",
            "Requirement already satisfied: joblib>=0.11 in /usr/local/lib/python3.7/dist-packages (from scikit-learn>=0.21.3->sklearn-genetic-opt) (1.2.0)\n",
            "Requirement already satisfied: threadpoolctl>=2.0.0 in /usr/local/lib/python3.7/dist-packages (from scikit-learn>=0.21.3->sklearn-genetic-opt) (3.1.0)\n",
            "Requirement already satisfied: scipy>=1.1.0 in /usr/local/lib/python3.7/dist-packages (from scikit-learn>=0.21.3->sklearn-genetic-opt) (1.7.3)\n",
            "Installing collected packages: sklearn-genetic-opt\n",
            "Successfully installed sklearn-genetic-opt-0.9.0\n"
          ]
        }
      ]
    },
    {
      "cell_type": "code",
      "source": [
        "!pip install tpot"
      ],
      "metadata": {
        "colab": {
          "base_uri": "https://localhost:8080/"
        },
        "id": "4c8H70aKxdPu",
        "outputId": "6f3c91c0-e547-4265-96b2-59d1f7493825"
      },
      "execution_count": null,
      "outputs": [
        {
          "output_type": "stream",
          "name": "stdout",
          "text": [
            "Looking in indexes: https://pypi.org/simple, https://us-python.pkg.dev/colab-wheels/public/simple/\n",
            "Requirement already satisfied: tpot in /usr/local/lib/python3.7/dist-packages (0.11.7)\n",
            "Requirement already satisfied: deap>=1.2 in /usr/local/lib/python3.7/dist-packages (from tpot) (1.3.3)\n",
            "Requirement already satisfied: joblib>=0.13.2 in /usr/local/lib/python3.7/dist-packages (from tpot) (1.2.0)\n",
            "Requirement already satisfied: scikit-learn>=0.22.0 in /usr/local/lib/python3.7/dist-packages (from tpot) (1.0.2)\n",
            "Requirement already satisfied: numpy>=1.16.3 in /usr/local/lib/python3.7/dist-packages (from tpot) (1.21.6)\n",
            "Requirement already satisfied: update-checker>=0.16 in /usr/local/lib/python3.7/dist-packages (from tpot) (0.18.0)\n",
            "Requirement already satisfied: stopit>=1.1.1 in /usr/local/lib/python3.7/dist-packages (from tpot) (1.1.2)\n",
            "Requirement already satisfied: tqdm>=4.36.1 in /usr/local/lib/python3.7/dist-packages (from tpot) (4.64.1)\n",
            "Requirement already satisfied: xgboost>=1.1.0 in /usr/local/lib/python3.7/dist-packages (from tpot) (1.6.2)\n",
            "Requirement already satisfied: scipy>=1.3.1 in /usr/local/lib/python3.7/dist-packages (from tpot) (1.7.3)\n",
            "Requirement already satisfied: pandas>=0.24.2 in /usr/local/lib/python3.7/dist-packages (from tpot) (1.3.5)\n",
            "Requirement already satisfied: pytz>=2017.3 in /usr/local/lib/python3.7/dist-packages (from pandas>=0.24.2->tpot) (2022.6)\n",
            "Requirement already satisfied: python-dateutil>=2.7.3 in /usr/local/lib/python3.7/dist-packages (from pandas>=0.24.2->tpot) (2.8.2)\n",
            "Requirement already satisfied: six>=1.5 in /usr/local/lib/python3.7/dist-packages (from python-dateutil>=2.7.3->pandas>=0.24.2->tpot) (1.15.0)\n",
            "Requirement already satisfied: threadpoolctl>=2.0.0 in /usr/local/lib/python3.7/dist-packages (from scikit-learn>=0.22.0->tpot) (3.1.0)\n",
            "Requirement already satisfied: requests>=2.3.0 in /usr/local/lib/python3.7/dist-packages (from update-checker>=0.16->tpot) (2.23.0)\n",
            "Requirement already satisfied: certifi>=2017.4.17 in /usr/local/lib/python3.7/dist-packages (from requests>=2.3.0->update-checker>=0.16->tpot) (2022.9.24)\n",
            "Requirement already satisfied: chardet<4,>=3.0.2 in /usr/local/lib/python3.7/dist-packages (from requests>=2.3.0->update-checker>=0.16->tpot) (3.0.4)\n",
            "Requirement already satisfied: urllib3!=1.25.0,!=1.25.1,<1.26,>=1.21.1 in /usr/local/lib/python3.7/dist-packages (from requests>=2.3.0->update-checker>=0.16->tpot) (1.24.3)\n",
            "Requirement already satisfied: idna<3,>=2.5 in /usr/local/lib/python3.7/dist-packages (from requests>=2.3.0->update-checker>=0.16->tpot) (2.10)\n"
          ]
        }
      ]
    },
    {
      "cell_type": "code",
      "execution_count": null,
      "metadata": {
        "id": "gzRKuA4DTmg4"
      },
      "outputs": [],
      "source": [
        "import pandas as pd\n",
        "import numpy as np\n",
        "from sklearn.metrics import accuracy_score #works\n",
        "from sklearn.model_selection import train_test_split\n",
        "from sklearn.ensemble import RandomForestClassifier\n",
        "from sklearn.tree import DecisionTreeClassifier\n",
        "from sklearn.model_selection import GridSearchCV\n",
        "from sklearn.model_selection import RandomizedSearchCV\n",
        "from sklearn.model_selection import cross_val_score\n",
        "from sklearn.metrics import classification_report, confusion_matrix\n",
        "from sklearn.ensemble import GradientBoostingClassifier\n",
        "from xgboost import XGBClassifier\n",
        "from sklearn.neural_network import MLPClassifier\n",
        "from imblearn.over_sampling import SMOTE \n",
        "from sklearn.svm import SVC\n",
        "from collections import Counter #for Smote, \n",
        "\n",
        "# Import libraries for feature selection\n",
        "from sklearn.feature_selection import SelectFromModel\n",
        "from sklearn.feature_selection import SelectKBest\n",
        "from sklearn.feature_selection import chi2, f_classif\n",
        "from genetic_selection import GeneticSelectionCV\n",
        "#from mlxtend.feature_selection import SequentialFeatureSelector as SFS\n",
        "\n",
        "# undersampling requirements\n",
        "from collections import Counter\n",
        "from sklearn.datasets import make_classification\n",
        "from imblearn.under_sampling import NearMiss\n",
        "\n",
        "#genetic algoritm for hyper parameter tuning\n",
        "from tpot import TPOTClassifier\n",
        "from sklearn_genetic import GASearchCV\n",
        "from sklearn_genetic.space import Continuous, Categorical, Integer\n",
        "from sklearn_genetic.plots import plot_fitness_evolution, plot_search_space\n",
        "from sklearn.model_selection import StratifiedKFold\n",
        "import matplotlib.pyplot as plt\n",
        "\n",
        "\n",
        "import warnings\n",
        "warnings.filterwarnings(\"ignore\")"
      ]
    },
    {
      "cell_type": "code",
      "source": [
        "train_data = pd.read_csv('/content/drive/MyDrive/santander_train.csv', header=0)\n",
        "train_data.head(10)"
      ],
      "metadata": {
        "colab": {
          "base_uri": "https://localhost:8080/",
          "height": 452
        },
        "id": "_XlDKTCPT1jW",
        "outputId": "33819956-bab0-4ec1-db5f-b3cb2d03ba0f"
      },
      "execution_count": null,
      "outputs": [
        {
          "output_type": "execute_result",
          "data": {
            "text/plain": [
              "   ID  var3  var15  imp_ent_var16_ult1  imp_op_var39_comer_ult1  \\\n",
              "0   1     2     23                 0.0                      0.0   \n",
              "1   3     2     34                 0.0                      0.0   \n",
              "2   4     2     23                 0.0                      0.0   \n",
              "3   8     2     37                 0.0                    195.0   \n",
              "4  10     2     39                 0.0                      0.0   \n",
              "5  13     2     23                 0.0                      0.0   \n",
              "6  14     2     27                 0.0                      0.0   \n",
              "7  18     2     26                 0.0                      0.0   \n",
              "8  20     2     45                 0.0                      0.0   \n",
              "9  23     2     25                 0.0                      0.0   \n",
              "\n",
              "   imp_op_var39_comer_ult3  imp_op_var40_comer_ult1  imp_op_var40_comer_ult3  \\\n",
              "0                      0.0                      0.0                      0.0   \n",
              "1                      0.0                      0.0                      0.0   \n",
              "2                      0.0                      0.0                      0.0   \n",
              "3                    195.0                      0.0                      0.0   \n",
              "4                      0.0                      0.0                      0.0   \n",
              "5                      0.0                      0.0                      0.0   \n",
              "6                      0.0                      0.0                      0.0   \n",
              "7                      0.0                      0.0                      0.0   \n",
              "8                      0.0                      0.0                      0.0   \n",
              "9                      0.0                      0.0                      0.0   \n",
              "\n",
              "   imp_op_var40_efect_ult1  imp_op_var40_efect_ult3  ...  \\\n",
              "0                      0.0                      0.0  ...   \n",
              "1                      0.0                      0.0  ...   \n",
              "2                      0.0                      0.0  ...   \n",
              "3                      0.0                      0.0  ...   \n",
              "4                      0.0                      0.0  ...   \n",
              "5                      0.0                      0.0  ...   \n",
              "6                      0.0                      0.0  ...   \n",
              "7                      0.0                      0.0  ...   \n",
              "8                      0.0                      0.0  ...   \n",
              "9                      0.0                      0.0  ...   \n",
              "\n",
              "   saldo_medio_var33_hace2  saldo_medio_var33_hace3  saldo_medio_var33_ult1  \\\n",
              "0                      0.0                      0.0                     0.0   \n",
              "1                      0.0                      0.0                     0.0   \n",
              "2                      0.0                      0.0                     0.0   \n",
              "3                      0.0                      0.0                     0.0   \n",
              "4                      0.0                      0.0                     0.0   \n",
              "5                      0.0                      0.0                     0.0   \n",
              "6                      0.0                      0.0                     0.0   \n",
              "7                      0.0                      0.0                     0.0   \n",
              "8                      0.0                      0.0                     0.0   \n",
              "9                      0.0                      0.0                     0.0   \n",
              "\n",
              "   saldo_medio_var33_ult3  saldo_medio_var44_hace2  saldo_medio_var44_hace3  \\\n",
              "0                     0.0                      0.0                      0.0   \n",
              "1                     0.0                      0.0                      0.0   \n",
              "2                     0.0                      0.0                      0.0   \n",
              "3                     0.0                      0.0                      0.0   \n",
              "4                     0.0                      0.0                      0.0   \n",
              "5                     0.0                      0.0                      0.0   \n",
              "6                     0.0                      0.0                      0.0   \n",
              "7                     0.0                      0.0                      0.0   \n",
              "8                     0.0                      0.0                      0.0   \n",
              "9                     0.0                      0.0                      0.0   \n",
              "\n",
              "   saldo_medio_var44_ult1  saldo_medio_var44_ult3          var38  TARGET  \n",
              "0                     0.0                     0.0   39205.170000       0  \n",
              "1                     0.0                     0.0   49278.030000       0  \n",
              "2                     0.0                     0.0   67333.770000       0  \n",
              "3                     0.0                     0.0   64007.970000       0  \n",
              "4                     0.0                     0.0  117310.979016       0  \n",
              "5                     0.0                     0.0   87975.750000       0  \n",
              "6                     0.0                     0.0   94956.660000       0  \n",
              "7                     0.0                     0.0  251638.950000       0  \n",
              "8                     0.0                     0.0  101962.020000       0  \n",
              "9                     0.0                     0.0  356463.060000       0  \n",
              "\n",
              "[10 rows x 371 columns]"
            ],
            "text/html": [
              "\n",
              "  <div id=\"df-5eb27e1b-5048-4378-91b6-4b1a042bd633\">\n",
              "    <div class=\"colab-df-container\">\n",
              "      <div>\n",
              "<style scoped>\n",
              "    .dataframe tbody tr th:only-of-type {\n",
              "        vertical-align: middle;\n",
              "    }\n",
              "\n",
              "    .dataframe tbody tr th {\n",
              "        vertical-align: top;\n",
              "    }\n",
              "\n",
              "    .dataframe thead th {\n",
              "        text-align: right;\n",
              "    }\n",
              "</style>\n",
              "<table border=\"1\" class=\"dataframe\">\n",
              "  <thead>\n",
              "    <tr style=\"text-align: right;\">\n",
              "      <th></th>\n",
              "      <th>ID</th>\n",
              "      <th>var3</th>\n",
              "      <th>var15</th>\n",
              "      <th>imp_ent_var16_ult1</th>\n",
              "      <th>imp_op_var39_comer_ult1</th>\n",
              "      <th>imp_op_var39_comer_ult3</th>\n",
              "      <th>imp_op_var40_comer_ult1</th>\n",
              "      <th>imp_op_var40_comer_ult3</th>\n",
              "      <th>imp_op_var40_efect_ult1</th>\n",
              "      <th>imp_op_var40_efect_ult3</th>\n",
              "      <th>...</th>\n",
              "      <th>saldo_medio_var33_hace2</th>\n",
              "      <th>saldo_medio_var33_hace3</th>\n",
              "      <th>saldo_medio_var33_ult1</th>\n",
              "      <th>saldo_medio_var33_ult3</th>\n",
              "      <th>saldo_medio_var44_hace2</th>\n",
              "      <th>saldo_medio_var44_hace3</th>\n",
              "      <th>saldo_medio_var44_ult1</th>\n",
              "      <th>saldo_medio_var44_ult3</th>\n",
              "      <th>var38</th>\n",
              "      <th>TARGET</th>\n",
              "    </tr>\n",
              "  </thead>\n",
              "  <tbody>\n",
              "    <tr>\n",
              "      <th>0</th>\n",
              "      <td>1</td>\n",
              "      <td>2</td>\n",
              "      <td>23</td>\n",
              "      <td>0.0</td>\n",
              "      <td>0.0</td>\n",
              "      <td>0.0</td>\n",
              "      <td>0.0</td>\n",
              "      <td>0.0</td>\n",
              "      <td>0.0</td>\n",
              "      <td>0.0</td>\n",
              "      <td>...</td>\n",
              "      <td>0.0</td>\n",
              "      <td>0.0</td>\n",
              "      <td>0.0</td>\n",
              "      <td>0.0</td>\n",
              "      <td>0.0</td>\n",
              "      <td>0.0</td>\n",
              "      <td>0.0</td>\n",
              "      <td>0.0</td>\n",
              "      <td>39205.170000</td>\n",
              "      <td>0</td>\n",
              "    </tr>\n",
              "    <tr>\n",
              "      <th>1</th>\n",
              "      <td>3</td>\n",
              "      <td>2</td>\n",
              "      <td>34</td>\n",
              "      <td>0.0</td>\n",
              "      <td>0.0</td>\n",
              "      <td>0.0</td>\n",
              "      <td>0.0</td>\n",
              "      <td>0.0</td>\n",
              "      <td>0.0</td>\n",
              "      <td>0.0</td>\n",
              "      <td>...</td>\n",
              "      <td>0.0</td>\n",
              "      <td>0.0</td>\n",
              "      <td>0.0</td>\n",
              "      <td>0.0</td>\n",
              "      <td>0.0</td>\n",
              "      <td>0.0</td>\n",
              "      <td>0.0</td>\n",
              "      <td>0.0</td>\n",
              "      <td>49278.030000</td>\n",
              "      <td>0</td>\n",
              "    </tr>\n",
              "    <tr>\n",
              "      <th>2</th>\n",
              "      <td>4</td>\n",
              "      <td>2</td>\n",
              "      <td>23</td>\n",
              "      <td>0.0</td>\n",
              "      <td>0.0</td>\n",
              "      <td>0.0</td>\n",
              "      <td>0.0</td>\n",
              "      <td>0.0</td>\n",
              "      <td>0.0</td>\n",
              "      <td>0.0</td>\n",
              "      <td>...</td>\n",
              "      <td>0.0</td>\n",
              "      <td>0.0</td>\n",
              "      <td>0.0</td>\n",
              "      <td>0.0</td>\n",
              "      <td>0.0</td>\n",
              "      <td>0.0</td>\n",
              "      <td>0.0</td>\n",
              "      <td>0.0</td>\n",
              "      <td>67333.770000</td>\n",
              "      <td>0</td>\n",
              "    </tr>\n",
              "    <tr>\n",
              "      <th>3</th>\n",
              "      <td>8</td>\n",
              "      <td>2</td>\n",
              "      <td>37</td>\n",
              "      <td>0.0</td>\n",
              "      <td>195.0</td>\n",
              "      <td>195.0</td>\n",
              "      <td>0.0</td>\n",
              "      <td>0.0</td>\n",
              "      <td>0.0</td>\n",
              "      <td>0.0</td>\n",
              "      <td>...</td>\n",
              "      <td>0.0</td>\n",
              "      <td>0.0</td>\n",
              "      <td>0.0</td>\n",
              "      <td>0.0</td>\n",
              "      <td>0.0</td>\n",
              "      <td>0.0</td>\n",
              "      <td>0.0</td>\n",
              "      <td>0.0</td>\n",
              "      <td>64007.970000</td>\n",
              "      <td>0</td>\n",
              "    </tr>\n",
              "    <tr>\n",
              "      <th>4</th>\n",
              "      <td>10</td>\n",
              "      <td>2</td>\n",
              "      <td>39</td>\n",
              "      <td>0.0</td>\n",
              "      <td>0.0</td>\n",
              "      <td>0.0</td>\n",
              "      <td>0.0</td>\n",
              "      <td>0.0</td>\n",
              "      <td>0.0</td>\n",
              "      <td>0.0</td>\n",
              "      <td>...</td>\n",
              "      <td>0.0</td>\n",
              "      <td>0.0</td>\n",
              "      <td>0.0</td>\n",
              "      <td>0.0</td>\n",
              "      <td>0.0</td>\n",
              "      <td>0.0</td>\n",
              "      <td>0.0</td>\n",
              "      <td>0.0</td>\n",
              "      <td>117310.979016</td>\n",
              "      <td>0</td>\n",
              "    </tr>\n",
              "    <tr>\n",
              "      <th>5</th>\n",
              "      <td>13</td>\n",
              "      <td>2</td>\n",
              "      <td>23</td>\n",
              "      <td>0.0</td>\n",
              "      <td>0.0</td>\n",
              "      <td>0.0</td>\n",
              "      <td>0.0</td>\n",
              "      <td>0.0</td>\n",
              "      <td>0.0</td>\n",
              "      <td>0.0</td>\n",
              "      <td>...</td>\n",
              "      <td>0.0</td>\n",
              "      <td>0.0</td>\n",
              "      <td>0.0</td>\n",
              "      <td>0.0</td>\n",
              "      <td>0.0</td>\n",
              "      <td>0.0</td>\n",
              "      <td>0.0</td>\n",
              "      <td>0.0</td>\n",
              "      <td>87975.750000</td>\n",
              "      <td>0</td>\n",
              "    </tr>\n",
              "    <tr>\n",
              "      <th>6</th>\n",
              "      <td>14</td>\n",
              "      <td>2</td>\n",
              "      <td>27</td>\n",
              "      <td>0.0</td>\n",
              "      <td>0.0</td>\n",
              "      <td>0.0</td>\n",
              "      <td>0.0</td>\n",
              "      <td>0.0</td>\n",
              "      <td>0.0</td>\n",
              "      <td>0.0</td>\n",
              "      <td>...</td>\n",
              "      <td>0.0</td>\n",
              "      <td>0.0</td>\n",
              "      <td>0.0</td>\n",
              "      <td>0.0</td>\n",
              "      <td>0.0</td>\n",
              "      <td>0.0</td>\n",
              "      <td>0.0</td>\n",
              "      <td>0.0</td>\n",
              "      <td>94956.660000</td>\n",
              "      <td>0</td>\n",
              "    </tr>\n",
              "    <tr>\n",
              "      <th>7</th>\n",
              "      <td>18</td>\n",
              "      <td>2</td>\n",
              "      <td>26</td>\n",
              "      <td>0.0</td>\n",
              "      <td>0.0</td>\n",
              "      <td>0.0</td>\n",
              "      <td>0.0</td>\n",
              "      <td>0.0</td>\n",
              "      <td>0.0</td>\n",
              "      <td>0.0</td>\n",
              "      <td>...</td>\n",
              "      <td>0.0</td>\n",
              "      <td>0.0</td>\n",
              "      <td>0.0</td>\n",
              "      <td>0.0</td>\n",
              "      <td>0.0</td>\n",
              "      <td>0.0</td>\n",
              "      <td>0.0</td>\n",
              "      <td>0.0</td>\n",
              "      <td>251638.950000</td>\n",
              "      <td>0</td>\n",
              "    </tr>\n",
              "    <tr>\n",
              "      <th>8</th>\n",
              "      <td>20</td>\n",
              "      <td>2</td>\n",
              "      <td>45</td>\n",
              "      <td>0.0</td>\n",
              "      <td>0.0</td>\n",
              "      <td>0.0</td>\n",
              "      <td>0.0</td>\n",
              "      <td>0.0</td>\n",
              "      <td>0.0</td>\n",
              "      <td>0.0</td>\n",
              "      <td>...</td>\n",
              "      <td>0.0</td>\n",
              "      <td>0.0</td>\n",
              "      <td>0.0</td>\n",
              "      <td>0.0</td>\n",
              "      <td>0.0</td>\n",
              "      <td>0.0</td>\n",
              "      <td>0.0</td>\n",
              "      <td>0.0</td>\n",
              "      <td>101962.020000</td>\n",
              "      <td>0</td>\n",
              "    </tr>\n",
              "    <tr>\n",
              "      <th>9</th>\n",
              "      <td>23</td>\n",
              "      <td>2</td>\n",
              "      <td>25</td>\n",
              "      <td>0.0</td>\n",
              "      <td>0.0</td>\n",
              "      <td>0.0</td>\n",
              "      <td>0.0</td>\n",
              "      <td>0.0</td>\n",
              "      <td>0.0</td>\n",
              "      <td>0.0</td>\n",
              "      <td>...</td>\n",
              "      <td>0.0</td>\n",
              "      <td>0.0</td>\n",
              "      <td>0.0</td>\n",
              "      <td>0.0</td>\n",
              "      <td>0.0</td>\n",
              "      <td>0.0</td>\n",
              "      <td>0.0</td>\n",
              "      <td>0.0</td>\n",
              "      <td>356463.060000</td>\n",
              "      <td>0</td>\n",
              "    </tr>\n",
              "  </tbody>\n",
              "</table>\n",
              "<p>10 rows × 371 columns</p>\n",
              "</div>\n",
              "      <button class=\"colab-df-convert\" onclick=\"convertToInteractive('df-5eb27e1b-5048-4378-91b6-4b1a042bd633')\"\n",
              "              title=\"Convert this dataframe to an interactive table.\"\n",
              "              style=\"display:none;\">\n",
              "        \n",
              "  <svg xmlns=\"http://www.w3.org/2000/svg\" height=\"24px\"viewBox=\"0 0 24 24\"\n",
              "       width=\"24px\">\n",
              "    <path d=\"M0 0h24v24H0V0z\" fill=\"none\"/>\n",
              "    <path d=\"M18.56 5.44l.94 2.06.94-2.06 2.06-.94-2.06-.94-.94-2.06-.94 2.06-2.06.94zm-11 1L8.5 8.5l.94-2.06 2.06-.94-2.06-.94L8.5 2.5l-.94 2.06-2.06.94zm10 10l.94 2.06.94-2.06 2.06-.94-2.06-.94-.94-2.06-.94 2.06-2.06.94z\"/><path d=\"M17.41 7.96l-1.37-1.37c-.4-.4-.92-.59-1.43-.59-.52 0-1.04.2-1.43.59L10.3 9.45l-7.72 7.72c-.78.78-.78 2.05 0 2.83L4 21.41c.39.39.9.59 1.41.59.51 0 1.02-.2 1.41-.59l7.78-7.78 2.81-2.81c.8-.78.8-2.07 0-2.86zM5.41 20L4 18.59l7.72-7.72 1.47 1.35L5.41 20z\"/>\n",
              "  </svg>\n",
              "      </button>\n",
              "      \n",
              "  <style>\n",
              "    .colab-df-container {\n",
              "      display:flex;\n",
              "      flex-wrap:wrap;\n",
              "      gap: 12px;\n",
              "    }\n",
              "\n",
              "    .colab-df-convert {\n",
              "      background-color: #E8F0FE;\n",
              "      border: none;\n",
              "      border-radius: 50%;\n",
              "      cursor: pointer;\n",
              "      display: none;\n",
              "      fill: #1967D2;\n",
              "      height: 32px;\n",
              "      padding: 0 0 0 0;\n",
              "      width: 32px;\n",
              "    }\n",
              "\n",
              "    .colab-df-convert:hover {\n",
              "      background-color: #E2EBFA;\n",
              "      box-shadow: 0px 1px 2px rgba(60, 64, 67, 0.3), 0px 1px 3px 1px rgba(60, 64, 67, 0.15);\n",
              "      fill: #174EA6;\n",
              "    }\n",
              "\n",
              "    [theme=dark] .colab-df-convert {\n",
              "      background-color: #3B4455;\n",
              "      fill: #D2E3FC;\n",
              "    }\n",
              "\n",
              "    [theme=dark] .colab-df-convert:hover {\n",
              "      background-color: #434B5C;\n",
              "      box-shadow: 0px 1px 3px 1px rgba(0, 0, 0, 0.15);\n",
              "      filter: drop-shadow(0px 1px 2px rgba(0, 0, 0, 0.3));\n",
              "      fill: #FFFFFF;\n",
              "    }\n",
              "  </style>\n",
              "\n",
              "      <script>\n",
              "        const buttonEl =\n",
              "          document.querySelector('#df-5eb27e1b-5048-4378-91b6-4b1a042bd633 button.colab-df-convert');\n",
              "        buttonEl.style.display =\n",
              "          google.colab.kernel.accessAllowed ? 'block' : 'none';\n",
              "\n",
              "        async function convertToInteractive(key) {\n",
              "          const element = document.querySelector('#df-5eb27e1b-5048-4378-91b6-4b1a042bd633');\n",
              "          const dataTable =\n",
              "            await google.colab.kernel.invokeFunction('convertToInteractive',\n",
              "                                                     [key], {});\n",
              "          if (!dataTable) return;\n",
              "\n",
              "          const docLinkHtml = 'Like what you see? Visit the ' +\n",
              "            '<a target=\"_blank\" href=https://colab.research.google.com/notebooks/data_table.ipynb>data table notebook</a>'\n",
              "            + ' to learn more about interactive tables.';\n",
              "          element.innerHTML = '';\n",
              "          dataTable['output_type'] = 'display_data';\n",
              "          await google.colab.output.renderOutput(dataTable, element);\n",
              "          const docLink = document.createElement('div');\n",
              "          docLink.innerHTML = docLinkHtml;\n",
              "          element.appendChild(docLink);\n",
              "        }\n",
              "      </script>\n",
              "    </div>\n",
              "  </div>\n",
              "  "
            ]
          },
          "metadata": {},
          "execution_count": 4
        }
      ]
    },
    {
      "cell_type": "code",
      "source": [
        "test_data = pd.read_csv('/content/drive/MyDrive/santander_test.csv', header=0)\n",
        "test_data.head()"
      ],
      "metadata": {
        "colab": {
          "base_uri": "https://localhost:8080/",
          "height": 297
        },
        "id": "BCEz9Z0NU4p2",
        "outputId": "d1791f83-2c49-4b24-a914-2102e98d6d51"
      },
      "execution_count": null,
      "outputs": [
        {
          "output_type": "execute_result",
          "data": {
            "text/plain": [
              "   ID  var3  var15  imp_ent_var16_ult1  imp_op_var39_comer_ult1  \\\n",
              "0   2     2     32                 0.0                      0.0   \n",
              "1   5     2     35                 0.0                      0.0   \n",
              "2   6     2     23                 0.0                      0.0   \n",
              "3   7     2     24                 0.0                      0.0   \n",
              "4   9     2     23                 0.0                      0.0   \n",
              "\n",
              "   imp_op_var39_comer_ult3  imp_op_var40_comer_ult1  imp_op_var40_comer_ult3  \\\n",
              "0                      0.0                      0.0                      0.0   \n",
              "1                      0.0                      0.0                      0.0   \n",
              "2                      0.0                      0.0                      0.0   \n",
              "3                      0.0                      0.0                      0.0   \n",
              "4                      0.0                      0.0                      0.0   \n",
              "\n",
              "   imp_op_var40_efect_ult1  imp_op_var40_efect_ult3  ...  \\\n",
              "0                      0.0                      0.0  ...   \n",
              "1                      0.0                      0.0  ...   \n",
              "2                      0.0                      0.0  ...   \n",
              "3                      0.0                      0.0  ...   \n",
              "4                      0.0                      0.0  ...   \n",
              "\n",
              "   saldo_medio_var29_ult3  saldo_medio_var33_hace2  saldo_medio_var33_hace3  \\\n",
              "0                     0.0                      0.0                      0.0   \n",
              "1                     0.0                      0.0                      0.0   \n",
              "2                     0.0                      0.0                      0.0   \n",
              "3                     0.0                      0.0                      0.0   \n",
              "4                     0.0                      0.0                      0.0   \n",
              "\n",
              "   saldo_medio_var33_ult1  saldo_medio_var33_ult3  saldo_medio_var44_hace2  \\\n",
              "0                     0.0                     0.0                      0.0   \n",
              "1                     0.0                     0.0                      0.0   \n",
              "2                     0.0                     0.0                      0.0   \n",
              "3                     0.0                     0.0                      0.0   \n",
              "4                     0.0                     0.0                      0.0   \n",
              "\n",
              "   saldo_medio_var44_hace3  saldo_medio_var44_ult1  saldo_medio_var44_ult3  \\\n",
              "0                      0.0                     0.0                     0.0   \n",
              "1                      0.0                     0.0                     0.0   \n",
              "2                      0.0                     0.0                     0.0   \n",
              "3                      0.0                     0.0                     0.0   \n",
              "4                      0.0                     0.0                     0.0   \n",
              "\n",
              "       var38  \n",
              "0   40532.10  \n",
              "1   45486.72  \n",
              "2   46993.95  \n",
              "3  187898.61  \n",
              "4   73649.73  \n",
              "\n",
              "[5 rows x 370 columns]"
            ],
            "text/html": [
              "\n",
              "  <div id=\"df-0ef79eb4-e9e6-4d9b-a446-50a1b221dfeb\">\n",
              "    <div class=\"colab-df-container\">\n",
              "      <div>\n",
              "<style scoped>\n",
              "    .dataframe tbody tr th:only-of-type {\n",
              "        vertical-align: middle;\n",
              "    }\n",
              "\n",
              "    .dataframe tbody tr th {\n",
              "        vertical-align: top;\n",
              "    }\n",
              "\n",
              "    .dataframe thead th {\n",
              "        text-align: right;\n",
              "    }\n",
              "</style>\n",
              "<table border=\"1\" class=\"dataframe\">\n",
              "  <thead>\n",
              "    <tr style=\"text-align: right;\">\n",
              "      <th></th>\n",
              "      <th>ID</th>\n",
              "      <th>var3</th>\n",
              "      <th>var15</th>\n",
              "      <th>imp_ent_var16_ult1</th>\n",
              "      <th>imp_op_var39_comer_ult1</th>\n",
              "      <th>imp_op_var39_comer_ult3</th>\n",
              "      <th>imp_op_var40_comer_ult1</th>\n",
              "      <th>imp_op_var40_comer_ult3</th>\n",
              "      <th>imp_op_var40_efect_ult1</th>\n",
              "      <th>imp_op_var40_efect_ult3</th>\n",
              "      <th>...</th>\n",
              "      <th>saldo_medio_var29_ult3</th>\n",
              "      <th>saldo_medio_var33_hace2</th>\n",
              "      <th>saldo_medio_var33_hace3</th>\n",
              "      <th>saldo_medio_var33_ult1</th>\n",
              "      <th>saldo_medio_var33_ult3</th>\n",
              "      <th>saldo_medio_var44_hace2</th>\n",
              "      <th>saldo_medio_var44_hace3</th>\n",
              "      <th>saldo_medio_var44_ult1</th>\n",
              "      <th>saldo_medio_var44_ult3</th>\n",
              "      <th>var38</th>\n",
              "    </tr>\n",
              "  </thead>\n",
              "  <tbody>\n",
              "    <tr>\n",
              "      <th>0</th>\n",
              "      <td>2</td>\n",
              "      <td>2</td>\n",
              "      <td>32</td>\n",
              "      <td>0.0</td>\n",
              "      <td>0.0</td>\n",
              "      <td>0.0</td>\n",
              "      <td>0.0</td>\n",
              "      <td>0.0</td>\n",
              "      <td>0.0</td>\n",
              "      <td>0.0</td>\n",
              "      <td>...</td>\n",
              "      <td>0.0</td>\n",
              "      <td>0.0</td>\n",
              "      <td>0.0</td>\n",
              "      <td>0.0</td>\n",
              "      <td>0.0</td>\n",
              "      <td>0.0</td>\n",
              "      <td>0.0</td>\n",
              "      <td>0.0</td>\n",
              "      <td>0.0</td>\n",
              "      <td>40532.10</td>\n",
              "    </tr>\n",
              "    <tr>\n",
              "      <th>1</th>\n",
              "      <td>5</td>\n",
              "      <td>2</td>\n",
              "      <td>35</td>\n",
              "      <td>0.0</td>\n",
              "      <td>0.0</td>\n",
              "      <td>0.0</td>\n",
              "      <td>0.0</td>\n",
              "      <td>0.0</td>\n",
              "      <td>0.0</td>\n",
              "      <td>0.0</td>\n",
              "      <td>...</td>\n",
              "      <td>0.0</td>\n",
              "      <td>0.0</td>\n",
              "      <td>0.0</td>\n",
              "      <td>0.0</td>\n",
              "      <td>0.0</td>\n",
              "      <td>0.0</td>\n",
              "      <td>0.0</td>\n",
              "      <td>0.0</td>\n",
              "      <td>0.0</td>\n",
              "      <td>45486.72</td>\n",
              "    </tr>\n",
              "    <tr>\n",
              "      <th>2</th>\n",
              "      <td>6</td>\n",
              "      <td>2</td>\n",
              "      <td>23</td>\n",
              "      <td>0.0</td>\n",
              "      <td>0.0</td>\n",
              "      <td>0.0</td>\n",
              "      <td>0.0</td>\n",
              "      <td>0.0</td>\n",
              "      <td>0.0</td>\n",
              "      <td>0.0</td>\n",
              "      <td>...</td>\n",
              "      <td>0.0</td>\n",
              "      <td>0.0</td>\n",
              "      <td>0.0</td>\n",
              "      <td>0.0</td>\n",
              "      <td>0.0</td>\n",
              "      <td>0.0</td>\n",
              "      <td>0.0</td>\n",
              "      <td>0.0</td>\n",
              "      <td>0.0</td>\n",
              "      <td>46993.95</td>\n",
              "    </tr>\n",
              "    <tr>\n",
              "      <th>3</th>\n",
              "      <td>7</td>\n",
              "      <td>2</td>\n",
              "      <td>24</td>\n",
              "      <td>0.0</td>\n",
              "      <td>0.0</td>\n",
              "      <td>0.0</td>\n",
              "      <td>0.0</td>\n",
              "      <td>0.0</td>\n",
              "      <td>0.0</td>\n",
              "      <td>0.0</td>\n",
              "      <td>...</td>\n",
              "      <td>0.0</td>\n",
              "      <td>0.0</td>\n",
              "      <td>0.0</td>\n",
              "      <td>0.0</td>\n",
              "      <td>0.0</td>\n",
              "      <td>0.0</td>\n",
              "      <td>0.0</td>\n",
              "      <td>0.0</td>\n",
              "      <td>0.0</td>\n",
              "      <td>187898.61</td>\n",
              "    </tr>\n",
              "    <tr>\n",
              "      <th>4</th>\n",
              "      <td>9</td>\n",
              "      <td>2</td>\n",
              "      <td>23</td>\n",
              "      <td>0.0</td>\n",
              "      <td>0.0</td>\n",
              "      <td>0.0</td>\n",
              "      <td>0.0</td>\n",
              "      <td>0.0</td>\n",
              "      <td>0.0</td>\n",
              "      <td>0.0</td>\n",
              "      <td>...</td>\n",
              "      <td>0.0</td>\n",
              "      <td>0.0</td>\n",
              "      <td>0.0</td>\n",
              "      <td>0.0</td>\n",
              "      <td>0.0</td>\n",
              "      <td>0.0</td>\n",
              "      <td>0.0</td>\n",
              "      <td>0.0</td>\n",
              "      <td>0.0</td>\n",
              "      <td>73649.73</td>\n",
              "    </tr>\n",
              "  </tbody>\n",
              "</table>\n",
              "<p>5 rows × 370 columns</p>\n",
              "</div>\n",
              "      <button class=\"colab-df-convert\" onclick=\"convertToInteractive('df-0ef79eb4-e9e6-4d9b-a446-50a1b221dfeb')\"\n",
              "              title=\"Convert this dataframe to an interactive table.\"\n",
              "              style=\"display:none;\">\n",
              "        \n",
              "  <svg xmlns=\"http://www.w3.org/2000/svg\" height=\"24px\"viewBox=\"0 0 24 24\"\n",
              "       width=\"24px\">\n",
              "    <path d=\"M0 0h24v24H0V0z\" fill=\"none\"/>\n",
              "    <path d=\"M18.56 5.44l.94 2.06.94-2.06 2.06-.94-2.06-.94-.94-2.06-.94 2.06-2.06.94zm-11 1L8.5 8.5l.94-2.06 2.06-.94-2.06-.94L8.5 2.5l-.94 2.06-2.06.94zm10 10l.94 2.06.94-2.06 2.06-.94-2.06-.94-.94-2.06-.94 2.06-2.06.94z\"/><path d=\"M17.41 7.96l-1.37-1.37c-.4-.4-.92-.59-1.43-.59-.52 0-1.04.2-1.43.59L10.3 9.45l-7.72 7.72c-.78.78-.78 2.05 0 2.83L4 21.41c.39.39.9.59 1.41.59.51 0 1.02-.2 1.41-.59l7.78-7.78 2.81-2.81c.8-.78.8-2.07 0-2.86zM5.41 20L4 18.59l7.72-7.72 1.47 1.35L5.41 20z\"/>\n",
              "  </svg>\n",
              "      </button>\n",
              "      \n",
              "  <style>\n",
              "    .colab-df-container {\n",
              "      display:flex;\n",
              "      flex-wrap:wrap;\n",
              "      gap: 12px;\n",
              "    }\n",
              "\n",
              "    .colab-df-convert {\n",
              "      background-color: #E8F0FE;\n",
              "      border: none;\n",
              "      border-radius: 50%;\n",
              "      cursor: pointer;\n",
              "      display: none;\n",
              "      fill: #1967D2;\n",
              "      height: 32px;\n",
              "      padding: 0 0 0 0;\n",
              "      width: 32px;\n",
              "    }\n",
              "\n",
              "    .colab-df-convert:hover {\n",
              "      background-color: #E2EBFA;\n",
              "      box-shadow: 0px 1px 2px rgba(60, 64, 67, 0.3), 0px 1px 3px 1px rgba(60, 64, 67, 0.15);\n",
              "      fill: #174EA6;\n",
              "    }\n",
              "\n",
              "    [theme=dark] .colab-df-convert {\n",
              "      background-color: #3B4455;\n",
              "      fill: #D2E3FC;\n",
              "    }\n",
              "\n",
              "    [theme=dark] .colab-df-convert:hover {\n",
              "      background-color: #434B5C;\n",
              "      box-shadow: 0px 1px 3px 1px rgba(0, 0, 0, 0.15);\n",
              "      filter: drop-shadow(0px 1px 2px rgba(0, 0, 0, 0.3));\n",
              "      fill: #FFFFFF;\n",
              "    }\n",
              "  </style>\n",
              "\n",
              "      <script>\n",
              "        const buttonEl =\n",
              "          document.querySelector('#df-0ef79eb4-e9e6-4d9b-a446-50a1b221dfeb button.colab-df-convert');\n",
              "        buttonEl.style.display =\n",
              "          google.colab.kernel.accessAllowed ? 'block' : 'none';\n",
              "\n",
              "        async function convertToInteractive(key) {\n",
              "          const element = document.querySelector('#df-0ef79eb4-e9e6-4d9b-a446-50a1b221dfeb');\n",
              "          const dataTable =\n",
              "            await google.colab.kernel.invokeFunction('convertToInteractive',\n",
              "                                                     [key], {});\n",
              "          if (!dataTable) return;\n",
              "\n",
              "          const docLinkHtml = 'Like what you see? Visit the ' +\n",
              "            '<a target=\"_blank\" href=https://colab.research.google.com/notebooks/data_table.ipynb>data table notebook</a>'\n",
              "            + ' to learn more about interactive tables.';\n",
              "          element.innerHTML = '';\n",
              "          dataTable['output_type'] = 'display_data';\n",
              "          await google.colab.output.renderOutput(dataTable, element);\n",
              "          const docLink = document.createElement('div');\n",
              "          docLink.innerHTML = docLinkHtml;\n",
              "          element.appendChild(docLink);\n",
              "        }\n",
              "      </script>\n",
              "    </div>\n",
              "  </div>\n",
              "  "
            ]
          },
          "metadata": {},
          "execution_count": 5
        }
      ]
    },
    {
      "cell_type": "code",
      "source": [
        "X = train_data.drop('TARGET', axis=1)\n",
        "y = train_data['TARGET']"
      ],
      "metadata": {
        "id": "AZnlDAW6Xm2T"
      },
      "execution_count": null,
      "outputs": []
    },
    {
      "cell_type": "markdown",
      "source": [
        "### Resampling"
      ],
      "metadata": {
        "id": "qdvn1AsUZaDs"
      }
    },
    {
      "cell_type": "code",
      "source": [
        "# defining a function to resample the dataset\n",
        "def undersample(X,y,ratio):\n",
        "  counter = Counter(y)\n",
        "  print(counter)\n",
        "  undersample = NearMiss(version=1, n_neighbors=3, sampling_strategy=ratio)\n",
        "  X_new, y_new = undersample.fit_resample(X,y)\n",
        "  counter = Counter(y_new)\n",
        "  print(counter)\n",
        "  return X_new, y_new"
      ],
      "metadata": {
        "id": "EkhT8scGV-Qv"
      },
      "execution_count": null,
      "outputs": []
    },
    {
      "cell_type": "code",
      "source": [
        "# Creating datasets with different ratio of data\n",
        "X_1, y_1 = undersample(X, y, 1)\n",
        "X_2, y_2 = undersample(X, y, 0.5)\n",
        "X_3, y_3 = undersample(X, y, 0.3)"
      ],
      "metadata": {
        "colab": {
          "base_uri": "https://localhost:8080/"
        },
        "id": "VuXSpv8XYVql",
        "outputId": "dc9bd07d-46bd-46dc-bacc-38c8a60fa57a"
      },
      "execution_count": null,
      "outputs": [
        {
          "output_type": "stream",
          "name": "stdout",
          "text": [
            "Counter({0: 73012, 1: 3008})\n",
            "Counter({0: 3008, 1: 3008})\n",
            "Counter({0: 73012, 1: 3008})\n",
            "Counter({0: 6016, 1: 3008})\n",
            "Counter({0: 73012, 1: 3008})\n",
            "Counter({0: 10026, 1: 3008})\n"
          ]
        }
      ]
    },
    {
      "cell_type": "markdown",
      "source": [
        "Feature selection using GA and selectkbest"
      ],
      "metadata": {
        "id": "d9Pjj8LKZcvN"
      }
    },
    {
      "cell_type": "code",
      "source": [
        "#genetic algorithm feature selection using decision tree classifier\n",
        "clf = DecisionTreeClassifier(random_state=0)\n",
        "model = GeneticSelectionCV(\n",
        "    clf, cv=3, verbose=0,\n",
        "    scoring=\"accuracy\", max_features=10,\n",
        "    n_population=100, crossover_proba=0.2,\n",
        "    mutation_proba=0.8, n_generations=100,\n",
        "    crossover_independent_proba=0.5,\n",
        "    mutation_independent_proba=0.04,\n",
        "    tournament_size=3, n_gen_no_change=10,\n",
        "    caching=True, n_jobs=-1)\n",
        "model = model.fit(X_3, y_3)\n"
      ],
      "metadata": {
        "id": "kimJ0J_eZeCF"
      },
      "execution_count": null,
      "outputs": []
    },
    {
      "cell_type": "code",
      "source": [
        "cols = model.get_support(indices=True) #get column indices\n",
        "print(\"\\n cols = \", cols, \"\\n\")"
      ],
      "metadata": {
        "colab": {
          "base_uri": "https://localhost:8080/"
        },
        "id": "WwBXNdRqmQfD",
        "outputId": "3ffaa1c8-180d-4c91-b7d9-b0f8c0a54174"
      },
      "execution_count": null,
      "outputs": [
        {
          "output_type": "stream",
          "name": "stdout",
          "text": [
            "\n",
            " cols =  [ 87 145 169 230 296 313 369] \n",
            "\n"
          ]
        }
      ]
    },
    {
      "cell_type": "code",
      "source": [
        "#genetic algorithm feature selection using gradient boosting classifier\n",
        "clf2 = GradientBoostingClassifier(random_state=0)\n",
        "model2 = GeneticSelectionCV(\n",
        "    clf2, cv=3, verbose=0,\n",
        "    scoring=\"accuracy\", max_features=10,\n",
        "    n_population=100, crossover_proba=0.2,\n",
        "    mutation_proba=0.8, n_generations=100,\n",
        "    crossover_independent_proba=0.5,\n",
        "    mutation_independent_proba=0.04,\n",
        "    tournament_size=3, n_gen_no_change=10,\n",
        "    caching=True, n_jobs=-1)\n",
        "model2 = model2.fit(X_1, y_1)\n"
      ],
      "metadata": {
        "id": "vad7uPAHofOM"
      },
      "execution_count": null,
      "outputs": []
    },
    {
      "cell_type": "code",
      "source": [
        "cols2 = model2.get_support(indices=True) #get column indices\n",
        "print(\"\\n cols = \", cols2, \"\\n\")"
      ],
      "metadata": {
        "colab": {
          "base_uri": "https://localhost:8080/"
        },
        "id": "yDF1NIP5ouO1",
        "outputId": "92117d1c-db9f-4366-b5f1-ade7edf65831"
      },
      "execution_count": null,
      "outputs": [
        {
          "output_type": "stream",
          "name": "stdout",
          "text": [
            "\n",
            " cols =  [ 13  62  90 131 200 230 242 244 262 369] \n",
            "\n"
          ]
        }
      ]
    },
    {
      "cell_type": "code",
      "source": [
        "# only one feature is common between the selected features using two classifiers with genetic algorithm and we have 17 unique variables selected from ga\n",
        "ga_features = np.concatenate([cols,cols2])"
      ],
      "metadata": {
        "id": "TDUe1LEYpMkQ"
      },
      "execution_count": null,
      "outputs": []
    },
    {
      "cell_type": "code",
      "source": [
        "ga_features = ga_features.tolist()\n",
        "ga_features.pop()\n",
        "ga_features"
      ],
      "metadata": {
        "colab": {
          "base_uri": "https://localhost:8080/"
        },
        "id": "5pJIJkLGqX9W",
        "outputId": "ad2b0369-83cc-48aa-b7c6-daeeff81718a"
      },
      "execution_count": null,
      "outputs": [
        {
          "output_type": "execute_result",
          "data": {
            "text/plain": [
              "[87, 145, 169, 230, 296, 313, 369, 13, 62, 90, 131, 200, 230, 242, 244, 262]"
            ]
          },
          "metadata": {},
          "execution_count": 25
        }
      ]
    },
    {
      "cell_type": "code",
      "source": [
        "\n",
        "#making 25 feature set by filling rest with select k best\n",
        "selector = SelectKBest(k=9)\n",
        "\n",
        "selector.fit_transform(X_2,y_2)\n",
        "\n",
        "feature_names_out = selector.get_support(indices=True).tolist()\n",
        "print(feature_names_out)\n",
        "features_25 = ga_features+feature_names_out"
      ],
      "metadata": {
        "colab": {
          "base_uri": "https://localhost:8080/"
        },
        "id": "YtTTfLSNpEgF",
        "outputId": "9bdb2853-4c12-4a87-d2d0-c1deab6bd82a"
      },
      "execution_count": null,
      "outputs": [
        {
          "output_type": "stream",
          "name": "stdout",
          "text": [
            "[2, 25, 91, 256, 257, 258, 278, 281, 327]\n"
          ]
        }
      ]
    },
    {
      "cell_type": "code",
      "source": [
        "\n",
        "#making 50 feature set by filling rest with select k best\n",
        "selector = SelectKBest(k=34)\n",
        "\n",
        "selector.fit_transform(X_2,y_2)\n",
        "\n",
        "feature_names_out2 = selector.get_support(indices=True).tolist()\n",
        "print(feature_names_out2)\n",
        "features_50 = ga_features+feature_names_out2"
      ],
      "metadata": {
        "colab": {
          "base_uri": "https://localhost:8080/"
        },
        "id": "THhnj1R1tWX4",
        "outputId": "d687bcee-8194-4c18-82e4-ba3661c40949"
      },
      "execution_count": null,
      "outputs": [
        {
          "output_type": "stream",
          "name": "stdout",
          "text": [
            "[2, 15, 18, 25, 64, 91, 126, 127, 130, 131, 139, 159, 255, 256, 257, 258, 260, 275, 278, 279, 280, 281, 292, 293, 298, 299, 300, 301, 302, 303, 312, 324, 326, 327]\n"
          ]
        }
      ]
    },
    {
      "cell_type": "code",
      "source": [
        "X_tune_25 = X_2.iloc[:,features_25]\n",
        "X_tune_50 = X_2.iloc[:,features_50]"
      ],
      "metadata": {
        "id": "r03oxKUjyDog"
      },
      "execution_count": null,
      "outputs": []
    },
    {
      "cell_type": "code",
      "source": [
        "# using SMOTE to balance the data\n",
        "\n",
        "smote = SMOTE(random_state = 42)\n",
        "\n",
        "X_res, y_res = smote.fit_resample(X, y)\n",
        "print(y.value_counts())\n",
        "print(y_res.value_counts())"
      ],
      "metadata": {
        "colab": {
          "base_uri": "https://localhost:8080/"
        },
        "id": "pQE7U2XUXpT1",
        "outputId": "f2c2e16f-c8e9-442a-be9c-22b7f6d00b36"
      },
      "execution_count": null,
      "outputs": [
        {
          "output_type": "stream",
          "name": "stdout",
          "text": [
            "0    73012\n",
            "1     3008\n",
            "Name: TARGET, dtype: int64\n",
            "0    73012\n",
            "1    73012\n",
            "Name: TARGET, dtype: int64\n"
          ]
        }
      ]
    },
    {
      "cell_type": "code",
      "source": [
        "X_train_25 = X_res.iloc[:,features_25]\n",
        "X_train_50 = X_res.iloc[:,features_50]"
      ],
      "metadata": {
        "id": "rZ-ajN2GSrLK"
      },
      "execution_count": null,
      "outputs": []
    },
    {
      "cell_type": "code",
      "source": [
        "test_25 = test_data.iloc[:,features_25]\n",
        "test_50 = test_data.iloc[:,features_50]"
      ],
      "metadata": {
        "id": "vnKrg0mnSezR"
      },
      "execution_count": null,
      "outputs": []
    },
    {
      "cell_type": "markdown",
      "source": [
        "### Hyper parameter tuning using genetic algorithm"
      ],
      "metadata": {
        "id": "q8vp9EUfZmgw"
      }
    },
    {
      "cell_type": "code",
      "source": [
        "# hyperparameter tuning using genetic algorithm\n",
        "clf = RandomForestClassifier()\n",
        "# randomforestclassifier\n",
        "param_grid = {'min_weight_fraction_leaf': Continuous(0.01, 0.5, distribution='log-uniform'),\n",
        "              'bootstrap': Categorical([True, False]), \n",
        "              'max_leaf_nodes': Integer(2, 35), \n",
        "              'n_estimators': Integer(100, 300)}"
      ],
      "metadata": {
        "id": "gRbGRaQ5unKV"
      },
      "execution_count": null,
      "outputs": []
    },
    {
      "cell_type": "code",
      "source": [
        "cv = StratifiedKFold(n_splits=3, shuffle=True)\n",
        "\n",
        "evolved_estimator = GASearchCV(estimator=clf,\n",
        "                               cv=cv,\n",
        "                               scoring='accuracy',\n",
        "                               population_size=10,\n",
        "                               generations=35,\n",
        "                               tournament_size=3,\n",
        "                               elitism=True,\n",
        "                               crossover_probability=0.8,\n",
        "                               mutation_probability=0.1,\n",
        "                               param_grid=param_grid,\n",
        "                               criteria='max',\n",
        "                               algorithm='eaMuPlusLambda',\n",
        "                               n_jobs=-1,\n",
        "                               verbose=True,\n",
        "                               keep_top_k=4)"
      ],
      "metadata": {
        "id": "pDV0dCmZHCib"
      },
      "execution_count": null,
      "outputs": []
    },
    {
      "cell_type": "code",
      "source": [
        "evolved_estimator.fit(X_tune_25,y_2)"
      ],
      "metadata": {
        "colab": {
          "base_uri": "https://localhost:8080/"
        },
        "id": "oS00g02vHF69",
        "outputId": "0d92898f-8dd1-4847-de75-16d8b01a6b47"
      },
      "execution_count": null,
      "outputs": [
        {
          "output_type": "stream",
          "name": "stdout",
          "text": [
            "gen\tnevals\tfitness \tfitness_std\tfitness_max\tfitness_min\n",
            "0  \t10    \t0.834973\t0.0883024  \t0.91988    \t0.666667   \n",
            "1  \t19    \t0.882103\t0.027375   \t0.91988    \t0.838098   \n",
            "2  \t20    \t0.909164\t0.0215989  \t0.921099   \t0.86414    \n",
            "3  \t18    \t0.9209  \t0.000428614\t0.921543   \t0.91988    \n",
            "4  \t19    \t0.920878\t0.00035737 \t0.921543   \t0.920324   \n",
            "5  \t19    \t0.920977\t0.000621852\t0.921653   \t0.919437   \n",
            "6  \t16    \t0.921044\t0.000470803\t0.921653   \t0.920213   \n",
            "7  \t17    \t0.921243\t0.000538454\t0.921653   \t0.920213   \n",
            "8  \t17    \t0.921487\t0.000258702\t0.921653   \t0.920878   \n",
            "9  \t20    \t0.921288\t0.000547501\t0.921653   \t0.920213   \n",
            "10 \t19    \t0.921188\t0.000553635\t0.921653   \t0.919991   \n",
            "11 \t17    \t0.921376\t0.000351305\t0.921764   \t0.920878   \n",
            "12 \t19    \t0.921465\t0.000364346\t0.921764   \t0.920767   \n",
            "13 \t18    \t0.921543\t0.000393356\t0.922097   \t0.920545   \n",
            "14 \t19    \t0.921676\t0.000502473\t0.922097   \t0.920324   \n",
            "15 \t17    \t0.921487\t0.00051562 \t0.922097   \t0.920656   \n",
            "16 \t18    \t0.921565\t0.000434307\t0.922097   \t0.920656   \n",
            "17 \t20    \t0.921454\t0.000583863\t0.922097   \t0.920324   \n",
            "18 \t18    \t0.921321\t0.000726667\t0.922097   \t0.91988    \n",
            "19 \t19    \t0.921166\t0.00083252 \t0.922097   \t0.91977    \n",
            "20 \t19    \t0.920988\t0.000693815\t0.922097   \t0.919991   \n",
            "21 \t17    \t0.921133\t0.000524592\t0.922097   \t0.920434   \n",
            "22 \t16    \t0.921432\t0.00055629 \t0.922097   \t0.920767   \n",
            "23 \t18    \t0.921299\t0.000566787\t0.922097   \t0.920434   \n",
            "24 \t19    \t0.921221\t0.000663877\t0.922097   \t0.91988    \n",
            "25 \t16    \t0.92141 \t0.00045905 \t0.922097   \t0.920988   \n",
            "26 \t19    \t0.921288\t0.000485696\t0.922318   \t0.920767   \n",
            "27 \t19    \t0.921376\t0.000508425\t0.922318   \t0.920767   \n",
            "28 \t16    \t0.92152 \t0.000542431\t0.922318   \t0.920324   \n",
            "29 \t19    \t0.921653\t0.000360789\t0.922318   \t0.92121    \n",
            "30 \t16    \t0.921687\t0.000500636\t0.922318   \t0.920656   \n",
            "31 \t17    \t0.921454\t0.000509752\t0.921986   \t0.920324   \n",
            "32 \t19    \t0.921509\t0.000435013\t0.921986   \t0.920545   \n",
            "33 \t19    \t0.921376\t0.00038147 \t0.921986   \t0.920878   \n",
            "34 \t17    \t0.921166\t0.000678061\t0.921986   \t0.919659   \n",
            "35 \t20    \t0.921077\t0.000660818\t0.921653   \t0.91977    \n"
          ]
        },
        {
          "output_type": "execute_result",
          "data": {
            "text/plain": [
              "GASearchCV(crossover_probability=0.8,\n",
              "           cv=StratifiedKFold(n_splits=3, random_state=None, shuffle=True),\n",
              "           estimator=RandomForestClassifier(max_leaf_nodes=24,\n",
              "                                            min_weight_fraction_leaf=0.011241344703448047,\n",
              "                                            n_estimators=294),\n",
              "           generations=35, keep_top_k=4, mutation_probability=0.1, n_jobs=-1,\n",
              "           param_grid={'bootstrap': <sklearn_genetic.space.space.Categorical object at 0x7f0daa05c350>,\n",
              "                       'max_leaf_nodes': <sklearn_genetic.space.space.Integer object at 0x7f0daa05c390>,\n",
              "                       'min_weight_fraction_leaf': <sklearn_genetic.space.space.Continuous object at 0x7f0daa05c1d0>,\n",
              "                       'n_estimators': <sklearn_genetic.space.space.Integer object at 0x7f0daa05c3d0>},\n",
              "           population_size=10, return_train_score=True, scoring='accuracy')"
            ]
          },
          "metadata": {},
          "execution_count": 59
        }
      ]
    },
    {
      "cell_type": "code",
      "source": [
        "evolved_estimator.best_params_"
      ],
      "metadata": {
        "colab": {
          "base_uri": "https://localhost:8080/"
        },
        "id": "Jmv7GNHsPffg",
        "outputId": "dcd3c2de-66c4-4f12-d0c9-ac1c2bfa9ac4"
      },
      "execution_count": null,
      "outputs": [
        {
          "output_type": "execute_result",
          "data": {
            "text/plain": [
              "{'min_weight_fraction_leaf': 0.011241344703448047,\n",
              " 'bootstrap': True,\n",
              " 'max_leaf_nodes': 24,\n",
              " 'n_estimators': 294}"
            ]
          },
          "metadata": {},
          "execution_count": 60
        }
      ]
    },
    {
      "cell_type": "code",
      "source": [
        "#hyperparameter tuning for decision tree classifier\n",
        "clf2 = DecisionTreeClassifier()\n",
        "param_grid = {'min_weight_fraction_leaf': Continuous(0.01, 0.5, distribution='log-uniform'),\n",
        "              'max_leaf_nodes': Integer(2, 35), \n",
        "              'min_samples_split': Integer(2,10),\n",
        "              'criterion': Categorical(['entropy', 'gini'])}"
      ],
      "metadata": {
        "id": "nWnlhvDdKHv9"
      },
      "execution_count": null,
      "outputs": []
    },
    {
      "cell_type": "code",
      "source": [
        "cv = StratifiedKFold(n_splits=3, shuffle=True)\n",
        "\n",
        "evolved_estimator2 = GASearchCV(estimator=clf2,\n",
        "                               cv=cv,\n",
        "                               scoring='accuracy',\n",
        "                               population_size=10,\n",
        "                               generations=35,\n",
        "                               tournament_size=3,\n",
        "                               elitism=True,\n",
        "                               crossover_probability=0.8,\n",
        "                               mutation_probability=0.1,\n",
        "                               param_grid=param_grid,\n",
        "                               criteria='max',\n",
        "                               algorithm='eaMuPlusLambda',\n",
        "                               n_jobs=-1,\n",
        "                               verbose=True,\n",
        "                               keep_top_k=4)"
      ],
      "metadata": {
        "id": "4UWyPU_wLbjx"
      },
      "execution_count": null,
      "outputs": []
    },
    {
      "cell_type": "code",
      "source": [
        "evolved_estimator2.fit(X_tune_25,y_2)"
      ],
      "metadata": {
        "colab": {
          "base_uri": "https://localhost:8080/"
        },
        "id": "qTQXXLjdLhmP",
        "outputId": "c1509c5a-12b6-45cc-bb9a-e39515dbd567"
      },
      "execution_count": null,
      "outputs": [
        {
          "output_type": "stream",
          "name": "stdout",
          "text": [
            "gen\tnevals\tfitness \tfitness_std\tfitness_max\tfitness_min\n",
            "0  \t10    \t0.870844\t0.078211   \t0.931073   \t0.720634   \n",
            "1  \t17    \t0.890913\t0.0596321  \t0.931073   \t0.720634   \n",
            "2  \t18    \t0.918728\t0.0101077  \t0.931184   \t0.908355   \n",
            "3  \t20    \t0.927039\t0.0081235  \t0.931184   \t0.910683   \n",
            "4  \t16    \t0.931139\t7.35068e-05\t0.931184   \t0.930962   \n",
            "5  \t19    \t0.931184\t4.95582e-05\t0.931294   \t0.931073   \n",
            "6  \t17    \t0.931172\t5.9676e-05 \t0.931294   \t0.931073   \n",
            "7  \t16    \t0.93115 \t7.09566e-05\t0.931184   \t0.930962   \n",
            "8  \t18    \t0.931217\t7.09566e-05\t0.931294   \t0.931073   \n",
            "9  \t18    \t0.931206\t6.64894e-05\t0.931294   \t0.931073   \n",
            "10 \t18    \t0.931161\t8.29268e-05\t0.931294   \t0.930962   \n",
            "11 \t18    \t0.931161\t8.29268e-05\t0.931294   \t0.930962   \n",
            "12 \t19    \t0.93115 \t9.9734e-05 \t0.931294   \t0.930962   \n",
            "13 \t19    \t0.931217\t5.07821e-05\t0.931294   \t0.931184   \n",
            "14 \t17    \t0.931228\t5.42883e-05\t0.931294   \t0.931184   \n",
            "15 \t17    \t0.931228\t5.42883e-05\t0.931294   \t0.931184   \n",
            "16 \t16    \t0.931272\t4.43262e-05\t0.931294   \t0.931184   \n",
            "17 \t18    \t0.931294\t3.51083e-17\t0.931294   \t0.931294   \n",
            "18 \t19    \t0.93125 \t8.86525e-05\t0.931294   \t0.931073   \n",
            "19 \t18    \t0.931217\t9.9734e-05 \t0.931294   \t0.931073   \n",
            "20 \t16    \t0.931272\t4.43262e-05\t0.931294   \t0.931184   \n",
            "21 \t16    \t0.931283\t3.32447e-05\t0.931294   \t0.931184   \n",
            "22 \t17    \t0.931272\t4.43262e-05\t0.931294   \t0.931184   \n",
            "23 \t18    \t0.931283\t3.32447e-05\t0.931294   \t0.931184   \n",
            "24 \t18    \t0.932048\t0.00150709 \t0.935062   \t0.931294   \n",
            "25 \t17    \t0.933067\t0.00180803 \t0.935062   \t0.931184   \n",
            "26 \t17    \t0.93432 \t0.00105018 \t0.935062   \t0.931294   \n",
            "27 \t18    \t0.934896\t0.000314412\t0.935284   \t0.934286   \n",
            "28 \t16    \t0.934984\t0.000248039\t0.935284   \t0.934397   \n",
            "29 \t19    \t0.934796\t0.000438247\t0.935284   \t0.934065   \n",
            "30 \t17    \t0.935018\t0.000294027\t0.935284   \t0.934508   \n",
            "31 \t18    \t0.935084\t0.000241771\t0.935284   \t0.934619   \n",
            "32 \t19    \t0.935084\t0.00022602 \t0.935284   \t0.934619   \n",
            "33 \t19    \t0.935117\t0.000378237\t0.935395   \t0.934065   \n",
            "34 \t18    \t0.935151\t0.00023139 \t0.935284   \t0.934508   \n",
            "35 \t18    \t0.935151\t0.000296522\t0.935284   \t0.934286   \n"
          ]
        },
        {
          "output_type": "execute_result",
          "data": {
            "text/plain": [
              "GASearchCV(crossover_probability=0.8,\n",
              "           cv=StratifiedKFold(n_splits=3, random_state=None, shuffle=True),\n",
              "           estimator=DecisionTreeClassifier(criterion='entropy',\n",
              "                                            max_leaf_nodes=13,\n",
              "                                            min_samples_split=6,\n",
              "                                            min_weight_fraction_leaf=0.01013856339249382),\n",
              "           generations=35, keep_top_k=4, mutation_probability=0.1, n_jobs=-1,\n",
              "           param_grid={'criterion': <sklearn_genetic.space.space.Categorical object at 0x7f0da9ecd190>,\n",
              "                       'max_leaf_nodes': <sklearn_genetic.space.space.Integer object at 0x7f0da9ecd890>,\n",
              "                       'min_samples_split': <sklearn_genetic.space.space.Integer object at 0x7f0da9ecddd0>,\n",
              "                       'min_weight_fraction_leaf': <sklearn_genetic.space.space.Continuous object at 0x7f0da9ecd8d0>},\n",
              "           population_size=10, return_train_score=True, scoring='accuracy')"
            ]
          },
          "metadata": {},
          "execution_count": 69
        }
      ]
    },
    {
      "cell_type": "code",
      "source": [
        "evolved_estimator2.best_params_"
      ],
      "metadata": {
        "colab": {
          "base_uri": "https://localhost:8080/"
        },
        "id": "2OP5qUKcQ3CF",
        "outputId": "c8617bae-a57c-4254-d8fe-6bab1ac31069"
      },
      "execution_count": null,
      "outputs": [
        {
          "output_type": "execute_result",
          "data": {
            "text/plain": [
              "{'min_weight_fraction_leaf': 0.01013856339249382,\n",
              " 'max_leaf_nodes': 13,\n",
              " 'min_samples_split': 6,\n",
              " 'criterion': 'entropy'}"
            ]
          },
          "metadata": {},
          "execution_count": 72
        }
      ]
    },
    {
      "cell_type": "markdown",
      "source": [
        "### Training the models with tuned parameters"
      ],
      "metadata": {
        "id": "CYMWSdUyZuFY"
      }
    },
    {
      "cell_type": "code",
      "source": [
        "#training and testing on the hyper parameter tuned models\n",
        "\n",
        "#random forest classifier\n",
        "model1 = RandomForestClassifier(min_weight_fraction_leaf = 0.011241344703448047,\n",
        "                                max_depth=None,\n",
        "                                bootstrap=True,\n",
        "                                max_leaf_nodes=24,\n",
        "                                n_estimators=294)\n",
        "\n",
        "#decision treee classifier\n",
        "model2 = DecisionTreeClassifier(min_weight_fraction_leaf=0.01013856339249382,\n",
        "                                max_depth=10,\n",
        "                                max_leaf_nodes=113,\n",
        "                                min_samples_split=6,\n",
        "                                criterion='entropy')"
      ],
      "metadata": {
        "id": "pt9FAV6iQ8Wm"
      },
      "execution_count": null,
      "outputs": []
    },
    {
      "cell_type": "code",
      "source": [
        "#predicting on rfc\n",
        "model1.fit(X_train_25,y_res)\n",
        "pred_rf_25 = model1.predict_proba(test_25)\n",
        "\n",
        "model1.fit(X_train_50,y_res)\n",
        "pred_rf_50 = model1.predict_proba(test_50)"
      ],
      "metadata": {
        "id": "9zXySsPqUSAp"
      },
      "execution_count": null,
      "outputs": []
    },
    {
      "cell_type": "code",
      "source": [
        "#predicting on dtc\n",
        "model2.fit(X_train_25,y_res)\n",
        "pred_dt_25 = model2.predict_proba(test_25)\n",
        "\n",
        "model2.fit(X_train_50,y_res)\n",
        "pred_dt_50 = model2.predict_proba(test_50)"
      ],
      "metadata": {
        "id": "mDlllenSV-NV"
      },
      "execution_count": null,
      "outputs": []
    },
    {
      "cell_type": "markdown",
      "source": [
        "### Kaggle submission scores for all four models"
      ],
      "metadata": {
        "id": "DVhbyLK0aP-W"
      }
    },
    {
      "cell_type": "code",
      "source": [
        "from IPython.display import Image\n",
        "Image('/content/Screen Shot 2022-11-15 at 1.25.18 AM.png')"
      ],
      "metadata": {
        "colab": {
          "base_uri": "https://localhost:8080/",
          "height": 444
        },
        "id": "Gxj9gNF5Z_DX",
        "outputId": "502aa56a-7b6b-4818-889a-14a8c1cc5cfd"
      },
      "execution_count": null,
      "outputs": [
        {
          "output_type": "execute_result",
          "data": {
            "image/png": "[encoded data removed]",
            "text/plain": [
              "<IPython.core.display.Image object>"
            ]
          },
          "metadata": {},
          "execution_count": 97
        }
      ]
    }
  ]
}